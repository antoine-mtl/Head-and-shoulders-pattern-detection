{
 "cells": [
  {
   "cell_type": "markdown",
   "metadata": {},
   "source": [
    "# Train and test the model"
   ]
  },
  {
   "cell_type": "code",
   "execution_count": 15,
   "metadata": {},
   "outputs": [],
   "source": [
    "from keras.preprocessing.image import ImageDataGenerator\n",
    "from keras.models import Sequential\n",
    "from keras.layers import Conv2D, MaxPooling2D\n",
    "from keras.layers import Activation, Dropout, Flatten, Dense\n",
    "from keras import backend as K\n",
    "import pandas as pd\n",
    "import matplotlib.pyplot as plt \n",
    "%matplotlib inline"
   ]
  },
  {
   "cell_type": "markdown",
   "metadata": {},
   "source": [
    "# Training\n",
    "Training  of the model on simulated data"
   ]
  },
  {
   "cell_type": "code",
   "execution_count": 9,
   "metadata": {},
   "outputs": [],
   "source": [
    "img_width, img_height = 420, 420\n",
    "\n",
    "train_data_dir = 'train'\n",
    "validation_data_dir = 'validation'\n",
    "nb_train_samples = 399\n",
    "nb_validation_samples =398\n",
    "epochs = 10\n",
    "batch_size = 32\n",
    "\n",
    "if K.image_data_format() == 'channels_first':\n",
    "    input_shape = (3, img_width, img_height)\n",
    "else:\n",
    "    input_shape = (img_width, img_height, 3)\n",
    "\n",
    "model = Sequential()\n",
    "model.add(Conv2D(32, (3, 3), input_shape=input_shape))\n",
    "model.add(Activation('relu'))\n",
    "model.add(MaxPooling2D(pool_size=(2, 2)))\n",
    "\n",
    "model.add(Conv2D(32, (3, 3)))\n",
    "model.add(Activation('relu'))\n",
    "model.add(MaxPooling2D(pool_size=(2, 2)))\n",
    "\n",
    "model.add(Conv2D(64, (3, 3)))\n",
    "model.add(Activation('relu'))\n",
    "model.add(MaxPooling2D(pool_size=(2, 2)))\n",
    "\n",
    "model.add(Flatten())\n",
    "model.add(Dense(64))\n",
    "model.add(Activation('relu'))\n",
    "model.add(Dropout(0.5))\n",
    "model.add(Dense(1))\n",
    "\n",
    "model.add(Activation('sigmoid'))\n",
    "print(model.summary())\n",
    "model.compile(loss='binary_crossentropy',\n",
    "              optimizer='rmsprop',\n",
    "              metrics=['accuracy'])\n",
    "\n",
    "\n",
    "train_datagen = ImageDataGenerator(\n",
    "    rescale=1. / 420)\n",
    "\n",
    "\n",
    "test_datagen = ImageDataGenerator(rescale=1. / 420)\n",
    "\n",
    "train_generator = train_datagen.flow_from_directory(\n",
    "    train_data_dir,\n",
    "    target_size=(img_width, img_height),\n",
    "    batch_size=batch_size,\n",
    "    class_mode='binary')\n",
    "\n",
    "validation_generator = test_datagen.flow_from_directory(\n",
    "    validation_data_dir,\n",
    "    target_size=(img_width, img_height),\n",
    "    batch_size=batch_size,\n",
    "    class_mode='binary')\n"
   ]
  },
  {
   "cell_type": "code",
   "execution_count": 11,
   "metadata": {},
   "outputs": [],
   "source": [
    "model.fit_generator(\n",
    "    train_generator,\n",
    "    steps_per_epoch=nb_train_samples // batch_size,\n",
    "    epochs=epochs,\n",
    "    validation_data=validation_generator,\n",
    "    validation_steps=nb_validation_samples // batch_size)\n",
    "\n",
    "model.save_weights('first_try.h5')"
   ]
  },
  {
   "cell_type": "markdown",
   "metadata": {},
   "source": [
    "# Test\n",
    "Test of the model on real data"
   ]
  },
  {
   "cell_type": "code",
   "execution_count": 12,
   "metadata": {},
   "outputs": [],
   "source": [
    "img_width, img_height = 420, 420\n",
    "test_dir = 'test'\n",
    "test_datagen = ImageDataGenerator(rescale=1./img_width)\n",
    "\n",
    "test_generator = test_datagen.flow_from_directory(\n",
    "        test_dir,\n",
    "        target_size=(img_width, img_width),\n",
    "        color_mode=\"rgb\",\n",
    "        shuffle = False,\n",
    "        class_mode='binary',\n",
    "        batch_size=1)\n",
    "\n",
    "\n",
    "filenames = test_generator.filenames\n",
    "nb_samples = len(filenames)\n",
    "\n",
    "predict = model.predict_generator(test_generator,steps = nb_samples)\n",
    "predict2=[]\n",
    "for a in predict:\n",
    "    predict2.append(float(a.round(3)))\n",
    "\n",
    "filenames=test_generator.filenames\n",
    "results=pd.DataFrame({\"Filename\":filenames,\n",
    "                      \"Predictions\":predict2})\n",
    "results.to_csv(\"resultsForex.csv\",index=False)\n",
    "donnee=pd.read_csv('resultsForex.csv')\n",
    "\n",
    "for i in range(0,len(donnee.Filename)):\n",
    "    donnee.iloc[i,0]=donnee.iloc[i,0].split('\\\\')[1].split('_')[0]\n"
   ]
  },
  {
   "cell_type": "markdown",
   "metadata": {},
   "source": [
    "Dates extraction where a head and shoulder pattern is detected"
   ]
  },
  {
   "cell_type": "code",
   "execution_count": 5,
   "metadata": {},
   "outputs": [
    {
     "name": "stdout",
     "output_type": "stream",
     "text": [
      "['2017-09-28H16', '2017-09-29H2', '2017-11-08H15', '2017-11-09H20']\n"
     ]
    }
   ],
   "source": [
    "\n",
    "date_bonne=[]\n",
    "j=0\n",
    "while (j < len(donnee.Filename)):\n",
    "    if donnee.iloc[j,1]==1:\n",
    "        date_bonne.append(donnee.iloc[j,0])\n",
    "        if ((len(donnee.Filename)-j)< 30):\n",
    "            date_bonne.append(donnee.iloc[(j),0])\n",
    "            j=len(donnee.Filename)\n",
    "            break\n",
    "        else:\n",
    "            j=j+30\n",
    "            date_bonne.append(donnee.iloc[(j),0])\n",
    "    j=j+1\n",
    "print(date_bonne)\n",
    "a=0\n",
    "lst_dict = []\n",
    "while (a < len(date_bonne)):\n",
    "    lst_dict.append({'x0':date_bonne[a],'x1':date_bonne[a+1],'opacity':0.2, 'type':'rect','fillcolor':'#d3d3d3', 'y0':0, 'y1':1, 'xref':'x', 'yref':'paper','line_width':1})\n",
    "    a=a+2"
   ]
  },
  {
   "cell_type": "markdown",
   "metadata": {},
   "source": [
    "A plot of one head and shoulder pattern detection"
   ]
  },
  {
   "cell_type": "code",
   "execution_count": 46,
   "metadata": {
    "scrolled": false
   },
   "outputs": [
    {
     "name": "stdout",
     "output_type": "stream",
     "text": [
      "2017-09-28H16\n"
     ]
    },
    {
     "data": {
      "image/png": "[encoded data removed]",
      "text/plain": [
       "<matplotlib.figure.Figure at 0x21795f6a438>"
      ]
     },
     "metadata": {
      "needs_background": "light"
     },
     "output_type": "display_data"
    }
   ],
   "source": [
    "date_bonne=['2017-09-28H16', '2017-09-29H2']\n",
    "donnee2=pd.read_csv('EUR_CAD.csv')\n",
    "donnee2=donnee2.set_index('date')\n",
    "\n",
    "a=0\n",
    "while (a < 1):\n",
    "    print(date_bonne[a])\n",
    "    donnee_version=donnee2.loc[(donnee2.index >= date_bonne[a]) & (donnee2.index<= date_bonne[(a+1)])]\n",
    "    pylab.rcParams['figure.figsize'] = (5, 5)   # Change the size of plots\n",
    "    donnee_version[\"openbid\"].plot(grid = True) # P\n",
    "    plt.show()\n",
    "    a=a+2\n",
    "\n"
   ]
  },
  {
   "cell_type": "markdown",
   "metadata": {},
   "source": [
    "Pattern confirmation"
   ]
  },
  {
   "cell_type": "code",
   "execution_count": 44,
   "metadata": {},
   "outputs": [
    {
     "name": "stdout",
     "output_type": "stream",
     "text": [
      "2017-09-28H16\n"
     ]
    },
    {
     "data": {
      "image/png": "[encoded data removed]",
      "text/plain": [
       "<matplotlib.figure.Figure at 0x2179667aa58>"
      ]
     },
     "metadata": {
      "needs_background": "light"
     },
     "output_type": "display_data"
    }
   ],
   "source": [
    "date_bonne=['2017-09-28H16', '2017-10-02H16']\n",
    "a=0\n",
    "while (a < 1):\n",
    "    print(date_bonne[a])\n",
    "    donnee_version=donnee2.loc[(donnee2.index >= date_bonne[a]) & (donnee2.index<= date_bonne[(a+1)])]\n",
    "    pylab.rcParams['figure.figsize'] = (5,5)   # Change the size of plots\n",
    "    donnee_version[\"openbid\"].plot(grid = True) # P\n",
    "    plt.show()\n",
    "    a=a+2\n"
   ]
  }
 ],
 "metadata": {
  "kernelspec": {
   "display_name": "Python 3",
   "language": "python",
   "name": "python3"
  },
  "language_info": {
   "codemirror_mode": {
    "name": "ipython",
    "version": 3
   },
   "file_extension": ".py",
   "mimetype": "text/x-python",
   "name": "python",
   "nbconvert_exporter": "python",
   "pygments_lexer": "ipython3",
   "version": "3.6.6"
  }
 },
 "nbformat": 4,
 "nbformat_minor": 2
}
